{
 "cells": [
  {
   "cell_type": "code",
   "execution_count": 34,
   "id": "6c343a0f",
   "metadata": {},
   "outputs": [],
   "source": [
    "import pyrefinebio as pyrb"
   ]
  },
  {
   "cell_type": "code",
   "execution_count": 3,
   "id": "fbf8919f",
   "metadata": {},
   "outputs": [
    {
     "ename": "AttributeError",
     "evalue": "type object 'Token' has no attribute 'create_token'",
     "output_type": "error",
     "traceback": [
      "\u001b[0;31m---------------------------------------------------------------------------\u001b[0m",
      "\u001b[0;31mAttributeError\u001b[0m                            Traceback (most recent call last)",
      "\u001b[0;32m/var/folders/52/_yjsxstx0gl6n3bc1xfrfczr0000gn/T/ipykernel_54459/1410253384.py\u001b[0m in \u001b[0;36m<module>\u001b[0;34m\u001b[0m\n\u001b[1;32m      1\u001b[0m \u001b[0;31m# Getting a download URL requires agreeing to the terms and conditions.\u001b[0m\u001b[0;34m\u001b[0m\u001b[0;34m\u001b[0m\u001b[0m\n\u001b[0;32m----> 2\u001b[0;31m \u001b[0mapi_token\u001b[0m \u001b[0;34m=\u001b[0m \u001b[0mpyrb\u001b[0m\u001b[0;34m.\u001b[0m\u001b[0mToken\u001b[0m\u001b[0;34m.\u001b[0m\u001b[0mcreate_token\u001b[0m\u001b[0;34m(\u001b[0m\u001b[0memail_address\u001b[0m\u001b[0;34m=\u001b[0m\u001b[0;34m\"taylor.reiter@cuanschutz.edu\"\u001b[0m\u001b[0;34m)\u001b[0m\u001b[0;34m\u001b[0m\u001b[0;34m\u001b[0m\u001b[0m\n\u001b[0m\u001b[1;32m      3\u001b[0m \u001b[0mpyrb\u001b[0m\u001b[0;34m.\u001b[0m\u001b[0mToken\u001b[0m\u001b[0;34m.\u001b[0m\u001b[0magree_to_terms_and_conditions\u001b[0m\u001b[0;34m(\u001b[0m\u001b[0mapi_token\u001b[0m\u001b[0;34m)\u001b[0m\u001b[0;34m\u001b[0m\u001b[0;34m\u001b[0m\u001b[0m\n\u001b[1;32m      4\u001b[0m \u001b[0mpyrb\u001b[0m\u001b[0;34m.\u001b[0m\u001b[0mToken\u001b[0m\u001b[0;34m.\u001b[0m\u001b[0msave_token\u001b[0m\u001b[0;34m(\u001b[0m\u001b[0mapi_token\u001b[0m\u001b[0;34m)\u001b[0m\u001b[0;34m\u001b[0m\u001b[0;34m\u001b[0m\u001b[0m\n",
      "\u001b[0;31mAttributeError\u001b[0m: type object 'Token' has no attribute 'create_token'"
     ]
    }
   ],
   "source": [
    "# Getting a download URL requires agreeing to the terms and conditions.\n",
    "api_token = pyrb.create_token(email_address=\"taylor.reiter@cuanschutz.edu\")\n",
    "pyrb.Token.agree_to_terms_and_conditions(api_token)\n",
    "pyrb.Token.save_token(api_token)"
   ]
  },
  {
   "cell_type": "code",
   "execution_count": 5,
   "id": "27af3d7d",
   "metadata": {},
   "outputs": [
    {
     "data": {
      "text/plain": [
       "<pyrefinebio.token.Token at 0x10a226b60>"
      ]
     },
     "execution_count": 5,
     "metadata": {},
     "output_type": "execute_result"
    }
   ],
   "source": [
    "pyrb.create_token(agree_to_terms=True, save_token=True)"
   ]
  },
  {
   "cell_type": "code",
   "execution_count": 11,
   "id": "e8aa43e4",
   "metadata": {},
   "outputs": [],
   "source": [
    "processor_ids = [processor.id for processor in pyrb.Processor.search(name=\"SALMONTOOLS\")]"
   ]
  },
  {
   "cell_type": "code",
   "execution_count": 15,
   "id": "22b9d09b",
   "metadata": {},
   "outputs": [
    {
     "name": "stdout",
     "output_type": "stream",
     "text": [
      "Retrieve a list of Samples based on various filters\n",
      "\n",
      "        Returns:\n",
      "            list of Sample\n",
      "\n",
      "        Keyword Arguments:\n",
      "            ordering (str): which field to use when ordering the results\n",
      "\n",
      "            title (str): filter based on the Sample's title\n",
      "\n",
      "            organism (str): filter based on the Organism that the Sample was taken from\n",
      "\n",
      "            source_database (str): filter based on the publically available repository\n",
      "                                   that the Sample was taken from\n",
      "\n",
      "            source_archive_url (str): filter based on Sample's source url\n",
      "\n",
      "            has_raw (bool): filter based on if the Sample had raw data available in the source database\n",
      "\n",
      "            platform_name (str): filter based on the name of the Platform that was used to assay the Sample\n",
      "\n",
      "            technology (str): filter based on the technology that was used to assay the Sample\n",
      "\n",
      "            manufacturer (str): filter based on the manufacturer of the technology that was used to assay the Sample\n",
      "\n",
      "            sex (str): filter based on the sex information provided by the submitter\n",
      "\n",
      "            age (number): filter based on the age information provided by the submitter\n",
      "\n",
      "            specimen_part (str): filter based on the part of the specimen reported by the submitter\n",
      "\n",
      "            genotype (str): filter based on the genotype of the subject that the Sample was taken from\n",
      "\n",
      "            disease (str): filter based on the disease information provided by the submitter\n",
      "\n",
      "            disease_stage (str): filter based on the disease stage information provided by the submitter\n",
      "\n",
      "            cell_line (str): filter based on the cell line used for the sample\n",
      "\n",
      "            treatment (str): filter based on the treatment information provided by the submitter\n",
      "\n",
      "            race (str): filter based on the race information provided by the submitter\n",
      "\n",
      "            subject (str): filter based on the subject identifier information provided by the submitter\n",
      "\n",
      "            compound (str): filter based on the compound information provided by the submitter\n",
      "\n",
      "            time (str): filter based on the time information provided by the submitter\n",
      "\n",
      "            is_processed (bool): filter based on if the Sample has been processed\n",
      "\n",
      "            is_public (bool): filter based on if the Sample is public\n",
      "\n",
      "            limit (int): number of results to return per page.\n",
      "\n",
      "            offset (int): the initial index from which to return the results.\n",
      "\n",
      "            dataset_id (str): filter based on the Dataset ids that the Sample has been added to\n",
      "\n",
      "            experiment_accession_code (str): filter based on the Experiments that are associated\n",
      "                                             with the Sample\n",
      "\n",
      "            accession_codes (str): filter based on multiple accession codes at once\n",
      "        \n"
     ]
    }
   ],
   "source": [
    "pyrb.help(\"Sample.search\")"
   ]
  },
  {
   "cell_type": "code",
   "execution_count": 28,
   "id": "8da6f2ce",
   "metadata": {},
   "outputs": [
    {
     "ename": "TypeError",
     "evalue": "Sample.__init__() got an unexpected keyword argument 'is_unable_to_be_processed'",
     "output_type": "error",
     "traceback": [
      "\u001b[0;31m---------------------------------------------------------------------------\u001b[0m",
      "\u001b[0;31mTypeError\u001b[0m                                 Traceback (most recent call last)",
      "\u001b[0;32m/var/folders/52/_yjsxstx0gl6n3bc1xfrfczr0000gn/T/ipykernel_54459/3713639290.py\u001b[0m in \u001b[0;36m<module>\u001b[0;34m\u001b[0m\n\u001b[0;32m----> 1\u001b[0;31m \u001b[0msamples\u001b[0m \u001b[0;34m=\u001b[0m \u001b[0mpyrb\u001b[0m\u001b[0;34m.\u001b[0m\u001b[0mSample\u001b[0m\u001b[0;34m.\u001b[0m\u001b[0msearch\u001b[0m\u001b[0;34m(\u001b[0m\u001b[0mtechnology\u001b[0m\u001b[0;34m=\u001b[0m\u001b[0;34m\"RNA-SEQ\"\u001b[0m\u001b[0;34m,\u001b[0m \u001b[0mhas_raw\u001b[0m \u001b[0;34m=\u001b[0m \u001b[0;32mTrue\u001b[0m\u001b[0;34m,\u001b[0m \u001b[0mis_processed\u001b[0m \u001b[0;34m=\u001b[0m \u001b[0;32mTrue\u001b[0m\u001b[0;34m,\u001b[0m \u001b[0mis_public\u001b[0m \u001b[0;34m=\u001b[0m \u001b[0;32mTrue\u001b[0m\u001b[0;34m,\u001b[0m \u001b[0mis_unable_to_be_processed\u001b[0m \u001b[0;34m=\u001b[0m \u001b[0;32mFalse\u001b[0m\u001b[0;34m)\u001b[0m\u001b[0;34m\u001b[0m\u001b[0;34m\u001b[0m\u001b[0m\n\u001b[0m\u001b[1;32m      2\u001b[0m \u001b[0;31m#sample = pyrb.Sample.get(\"GSM604797\")\u001b[0m\u001b[0;34m\u001b[0m\u001b[0;34m\u001b[0m\u001b[0m\n",
      "\u001b[0;32m~/miniconda3/envs/refinebio/lib/python3.10/site-packages/pyrefinebio/sample.py\u001b[0m in \u001b[0;36msearch\u001b[0;34m(cls, **kwargs)\u001b[0m\n\u001b[1;32m    219\u001b[0m         \"\"\"\n\u001b[1;32m    220\u001b[0m         \u001b[0mresponse\u001b[0m \u001b[0;34m=\u001b[0m \u001b[0mget_by_endpoint\u001b[0m\u001b[0;34m(\u001b[0m\u001b[0;34m\"samples\"\u001b[0m\u001b[0;34m,\u001b[0m \u001b[0mparams\u001b[0m\u001b[0;34m=\u001b[0m\u001b[0mkwargs\u001b[0m\u001b[0;34m)\u001b[0m\u001b[0;34m\u001b[0m\u001b[0;34m\u001b[0m\u001b[0m\n\u001b[0;32m--> 221\u001b[0;31m         \u001b[0;32mreturn\u001b[0m \u001b[0mcreate_paginated_list\u001b[0m\u001b[0;34m(\u001b[0m\u001b[0mcls\u001b[0m\u001b[0;34m,\u001b[0m \u001b[0mresponse\u001b[0m\u001b[0;34m)\u001b[0m\u001b[0;34m\u001b[0m\u001b[0;34m\u001b[0m\u001b[0m\n\u001b[0m",
      "\u001b[0;32m~/miniconda3/envs/refinebio/lib/python3.10/site-packages/pyrefinebio/util.py\u001b[0m in \u001b[0;36mcreate_paginated_list\u001b[0;34m(T, response)\u001b[0m\n\u001b[1;32m      6\u001b[0m \u001b[0;34m\u001b[0m\u001b[0m\n\u001b[1;32m      7\u001b[0m \u001b[0;32mdef\u001b[0m \u001b[0mcreate_paginated_list\u001b[0m\u001b[0;34m(\u001b[0m\u001b[0mT\u001b[0m\u001b[0;34m,\u001b[0m \u001b[0mresponse\u001b[0m\u001b[0;34m)\u001b[0m\u001b[0;34m:\u001b[0m\u001b[0;34m\u001b[0m\u001b[0;34m\u001b[0m\u001b[0m\n\u001b[0;32m----> 8\u001b[0;31m     \u001b[0;32mreturn\u001b[0m \u001b[0mPaginatedList\u001b[0m\u001b[0;34m(\u001b[0m\u001b[0mT\u001b[0m\u001b[0;34m,\u001b[0m \u001b[0mresponse\u001b[0m\u001b[0;34m)\u001b[0m\u001b[0;34m\u001b[0m\u001b[0;34m\u001b[0m\u001b[0m\n\u001b[0m\u001b[1;32m      9\u001b[0m \u001b[0;34m\u001b[0m\u001b[0m\n\u001b[1;32m     10\u001b[0m \u001b[0;34m\u001b[0m\u001b[0m\n",
      "\u001b[0;32m~/miniconda3/envs/refinebio/lib/python3.10/site-packages/pyrefinebio/util.py\u001b[0m in \u001b[0;36m__init__\u001b[0;34m(self, T, response)\u001b[0m\n\u001b[1;32m     49\u001b[0m \u001b[0;34m\u001b[0m\u001b[0m\n\u001b[1;32m     50\u001b[0m         \u001b[0mself\u001b[0m\u001b[0;34m.\u001b[0m\u001b[0mpages\u001b[0m \u001b[0;34m=\u001b[0m \u001b[0;34m[\u001b[0m\u001b[0;32mNone\u001b[0m \u001b[0;32mfor\u001b[0m \u001b[0m_\u001b[0m \u001b[0;32min\u001b[0m \u001b[0mrange\u001b[0m\u001b[0;34m(\u001b[0m\u001b[0mmax_pages\u001b[0m \u001b[0;34m+\u001b[0m \u001b[0;36m1\u001b[0m\u001b[0;34m)\u001b[0m\u001b[0;34m]\u001b[0m\u001b[0;34m\u001b[0m\u001b[0;34m\u001b[0m\u001b[0m\n\u001b[0;32m---> 51\u001b[0;31m         \u001b[0mself\u001b[0m\u001b[0;34m.\u001b[0m\u001b[0mpages\u001b[0m\u001b[0;34m[\u001b[0m\u001b[0;36m0\u001b[0m\u001b[0;34m]\u001b[0m \u001b[0;34m=\u001b[0m \u001b[0;34m[\u001b[0m\u001b[0mT\u001b[0m\u001b[0;34m(\u001b[0m\u001b[0;34m**\u001b[0m\u001b[0mitem\u001b[0m\u001b[0;34m)\u001b[0m \u001b[0;32mfor\u001b[0m \u001b[0mitem\u001b[0m \u001b[0;32min\u001b[0m \u001b[0mjson\u001b[0m\u001b[0;34m[\u001b[0m\u001b[0;34m\"results\"\u001b[0m\u001b[0;34m]\u001b[0m\u001b[0;34m]\u001b[0m\u001b[0;34m\u001b[0m\u001b[0;34m\u001b[0m\u001b[0m\n\u001b[0m\u001b[1;32m     52\u001b[0m \u001b[0;34m\u001b[0m\u001b[0m\n\u001b[1;32m     53\u001b[0m     \u001b[0;32mdef\u001b[0m \u001b[0m__getitem__\u001b[0m\u001b[0;34m(\u001b[0m\u001b[0mself\u001b[0m\u001b[0;34m,\u001b[0m \u001b[0mindex\u001b[0m\u001b[0;34m)\u001b[0m\u001b[0;34m:\u001b[0m\u001b[0;34m\u001b[0m\u001b[0;34m\u001b[0m\u001b[0m\n",
      "\u001b[0;32m~/miniconda3/envs/refinebio/lib/python3.10/site-packages/pyrefinebio/util.py\u001b[0m in \u001b[0;36m<listcomp>\u001b[0;34m(.0)\u001b[0m\n\u001b[1;32m     49\u001b[0m \u001b[0;34m\u001b[0m\u001b[0m\n\u001b[1;32m     50\u001b[0m         \u001b[0mself\u001b[0m\u001b[0;34m.\u001b[0m\u001b[0mpages\u001b[0m \u001b[0;34m=\u001b[0m \u001b[0;34m[\u001b[0m\u001b[0;32mNone\u001b[0m \u001b[0;32mfor\u001b[0m \u001b[0m_\u001b[0m \u001b[0;32min\u001b[0m \u001b[0mrange\u001b[0m\u001b[0;34m(\u001b[0m\u001b[0mmax_pages\u001b[0m \u001b[0;34m+\u001b[0m \u001b[0;36m1\u001b[0m\u001b[0;34m)\u001b[0m\u001b[0;34m]\u001b[0m\u001b[0;34m\u001b[0m\u001b[0;34m\u001b[0m\u001b[0m\n\u001b[0;32m---> 51\u001b[0;31m         \u001b[0mself\u001b[0m\u001b[0;34m.\u001b[0m\u001b[0mpages\u001b[0m\u001b[0;34m[\u001b[0m\u001b[0;36m0\u001b[0m\u001b[0;34m]\u001b[0m \u001b[0;34m=\u001b[0m \u001b[0;34m[\u001b[0m\u001b[0mT\u001b[0m\u001b[0;34m(\u001b[0m\u001b[0;34m**\u001b[0m\u001b[0mitem\u001b[0m\u001b[0;34m)\u001b[0m \u001b[0;32mfor\u001b[0m \u001b[0mitem\u001b[0m \u001b[0;32min\u001b[0m \u001b[0mjson\u001b[0m\u001b[0;34m[\u001b[0m\u001b[0;34m\"results\"\u001b[0m\u001b[0;34m]\u001b[0m\u001b[0;34m]\u001b[0m\u001b[0;34m\u001b[0m\u001b[0;34m\u001b[0m\u001b[0m\n\u001b[0m\u001b[1;32m     52\u001b[0m \u001b[0;34m\u001b[0m\u001b[0m\n\u001b[1;32m     53\u001b[0m     \u001b[0;32mdef\u001b[0m \u001b[0m__getitem__\u001b[0m\u001b[0;34m(\u001b[0m\u001b[0mself\u001b[0m\u001b[0;34m,\u001b[0m \u001b[0mindex\u001b[0m\u001b[0;34m)\u001b[0m\u001b[0;34m:\u001b[0m\u001b[0;34m\u001b[0m\u001b[0;34m\u001b[0m\u001b[0m\n",
      "\u001b[0;31mTypeError\u001b[0m: Sample.__init__() got an unexpected keyword argument 'is_unable_to_be_processed'"
     ]
    }
   ],
   "source": [
    "# samples = pyrb.Sample.search(technology=\"RNA-SEQ\", has_raw = True, is_processed = True, is_public = True, is_unable_to_be_processed = False)\n",
    "\n",
    "#sample = pyrb.Sample.get(\"GSM604797\")"
   ]
  },
  {
   "cell_type": "code",
   "execution_count": 38,
   "id": "bc027bd0",
   "metadata": {},
   "outputs": [
    {
     "ename": "TypeError",
     "evalue": "Sample.__init__() got an unexpected keyword argument 'is_unable_to_be_processed'",
     "output_type": "error",
     "traceback": [
      "\u001b[0;31m---------------------------------------------------------------------------\u001b[0m",
      "\u001b[0;31mTypeError\u001b[0m                                 Traceback (most recent call last)",
      "\u001b[0;32m/var/folders/52/_yjsxstx0gl6n3bc1xfrfczr0000gn/T/ipykernel_54459/2057046540.py\u001b[0m in \u001b[0;36m<module>\u001b[0;34m\u001b[0m\n\u001b[0;32m----> 1\u001b[0;31m \u001b[0msamples\u001b[0m \u001b[0;34m=\u001b[0m \u001b[0mpyrb\u001b[0m\u001b[0;34m.\u001b[0m\u001b[0mSample\u001b[0m\u001b[0;34m.\u001b[0m\u001b[0msearch\u001b[0m\u001b[0;34m(\u001b[0m\u001b[0mtechnology\u001b[0m\u001b[0;34m=\u001b[0m\u001b[0;34m\"RNA-SEQ\"\u001b[0m\u001b[0;34m)\u001b[0m\u001b[0;34m\u001b[0m\u001b[0;34m\u001b[0m\u001b[0m\n\u001b[0m",
      "\u001b[0;32m~/miniconda3/envs/refinebio/lib/python3.10/site-packages/pyrefinebio/sample.py\u001b[0m in \u001b[0;36msearch\u001b[0;34m(cls, **kwargs)\u001b[0m\n",
      "\u001b[0;32m~/miniconda3/envs/refinebio/lib/python3.10/site-packages/pyrefinebio/util.py\u001b[0m in \u001b[0;36mcreate_paginated_list\u001b[0;34m(T, response)\u001b[0m\n",
      "\u001b[0;32m~/miniconda3/envs/refinebio/lib/python3.10/site-packages/pyrefinebio/util.py\u001b[0m in \u001b[0;36m__init__\u001b[0;34m(self, T, response)\u001b[0m\n",
      "\u001b[0;32m~/miniconda3/envs/refinebio/lib/python3.10/site-packages/pyrefinebio/util.py\u001b[0m in \u001b[0;36m<listcomp>\u001b[0;34m(.0)\u001b[0m\n",
      "\u001b[0;31mTypeError\u001b[0m: Sample.__init__() got an unexpected keyword argument 'is_unable_to_be_processed'"
     ]
    }
   ],
   "source": [
    "samples = pyrb.Sample.search(technology=\"RNA-SEQ\")"
   ]
  },
  {
   "cell_type": "code",
   "execution_count": 27,
   "id": "130c4c73",
   "metadata": {},
   "outputs": [
    {
     "ename": "InvalidFilterType",
     "evalue": "You have provided invalid type for the filter, organism - Select a valid choice. That choice is not one of the available choices.",
     "output_type": "error",
     "traceback": [
      "\u001b[0;31m---------------------------------------------------------------------------\u001b[0m",
      "\u001b[0;31mHTTPError\u001b[0m                                 Traceback (most recent call last)",
      "\u001b[0;32m~/miniconda3/envs/refinebio/lib/python3.10/site-packages/pyrefinebio/api_interface.py\u001b[0m in \u001b[0;36mrequest\u001b[0;34m(method, url, params, payload)\u001b[0m\n\u001b[1;32m     26\u001b[0m         \u001b[0mresponse\u001b[0m \u001b[0;34m=\u001b[0m \u001b[0mrequests\u001b[0m\u001b[0;34m.\u001b[0m\u001b[0mrequest\u001b[0m\u001b[0;34m(\u001b[0m\u001b[0mmethod\u001b[0m\u001b[0;34m,\u001b[0m \u001b[0murl\u001b[0m\u001b[0;34m,\u001b[0m \u001b[0mparams\u001b[0m\u001b[0;34m=\u001b[0m\u001b[0mparams\u001b[0m\u001b[0;34m,\u001b[0m \u001b[0mdata\u001b[0m\u001b[0;34m=\u001b[0m\u001b[0mpayload\u001b[0m\u001b[0;34m,\u001b[0m \u001b[0mheaders\u001b[0m\u001b[0;34m=\u001b[0m\u001b[0mheaders\u001b[0m\u001b[0;34m)\u001b[0m\u001b[0;34m\u001b[0m\u001b[0;34m\u001b[0m\u001b[0m\n\u001b[0;32m---> 27\u001b[0;31m         \u001b[0mresponse\u001b[0m\u001b[0;34m.\u001b[0m\u001b[0mraise_for_status\u001b[0m\u001b[0;34m(\u001b[0m\u001b[0;34m)\u001b[0m\u001b[0;34m\u001b[0m\u001b[0;34m\u001b[0m\u001b[0m\n\u001b[0m\u001b[1;32m     28\u001b[0m \u001b[0;34m\u001b[0m\u001b[0m\n",
      "\u001b[0;32m~/miniconda3/envs/refinebio/lib/python3.10/site-packages/requests/models.py\u001b[0m in \u001b[0;36mraise_for_status\u001b[0;34m(self)\u001b[0m\n\u001b[1;32m    959\u001b[0m         \u001b[0;32mif\u001b[0m \u001b[0mhttp_error_msg\u001b[0m\u001b[0;34m:\u001b[0m\u001b[0;34m\u001b[0m\u001b[0;34m\u001b[0m\u001b[0m\n\u001b[0;32m--> 960\u001b[0;31m             \u001b[0;32mraise\u001b[0m \u001b[0mHTTPError\u001b[0m\u001b[0;34m(\u001b[0m\u001b[0mhttp_error_msg\u001b[0m\u001b[0;34m,\u001b[0m \u001b[0mresponse\u001b[0m\u001b[0;34m=\u001b[0m\u001b[0mself\u001b[0m\u001b[0;34m)\u001b[0m\u001b[0;34m\u001b[0m\u001b[0;34m\u001b[0m\u001b[0m\n\u001b[0m\u001b[1;32m    961\u001b[0m \u001b[0;34m\u001b[0m\u001b[0m\n",
      "\u001b[0;31mHTTPError\u001b[0m: 400 Client Error: Bad Request for url: https://api.refine.bio/v1/samples/?organism=HOMO_SAPIENS&is_processed=True",
      "\nDuring handling of the above exception, another exception occurred:\n",
      "\u001b[0;31mInvalidFilterType\u001b[0m                         Traceback (most recent call last)",
      "\u001b[0;32m/var/folders/52/_yjsxstx0gl6n3bc1xfrfczr0000gn/T/ipykernel_54459/319478601.py\u001b[0m in \u001b[0;36m<module>\u001b[0;34m\u001b[0m\n\u001b[0;32m----> 1\u001b[0;31m \u001b[0msamples\u001b[0m \u001b[0;34m=\u001b[0m \u001b[0mpyrb\u001b[0m\u001b[0;34m.\u001b[0m\u001b[0mSample\u001b[0m\u001b[0;34m.\u001b[0m\u001b[0msearch\u001b[0m\u001b[0;34m(\u001b[0m\u001b[0morganism\u001b[0m\u001b[0;34m=\u001b[0m\u001b[0;34m\"HOMO_SAPIENS\"\u001b[0m\u001b[0;34m,\u001b[0m \u001b[0mis_processed\u001b[0m\u001b[0;34m=\u001b[0m\u001b[0;32mTrue\u001b[0m\u001b[0;34m)\u001b[0m\u001b[0;34m\u001b[0m\u001b[0;34m\u001b[0m\u001b[0m\n\u001b[0m",
      "\u001b[0;32m~/miniconda3/envs/refinebio/lib/python3.10/site-packages/pyrefinebio/sample.py\u001b[0m in \u001b[0;36msearch\u001b[0;34m(cls, **kwargs)\u001b[0m\n\u001b[1;32m    218\u001b[0m             \u001b[0maccession_codes\u001b[0m \u001b[0;34m(\u001b[0m\u001b[0mstr\u001b[0m\u001b[0;34m)\u001b[0m\u001b[0;34m:\u001b[0m \u001b[0mfilter\u001b[0m \u001b[0mbased\u001b[0m \u001b[0mon\u001b[0m \u001b[0mmultiple\u001b[0m \u001b[0maccession\u001b[0m \u001b[0mcodes\u001b[0m \u001b[0mat\u001b[0m \u001b[0monce\u001b[0m\u001b[0;34m\u001b[0m\u001b[0;34m\u001b[0m\u001b[0m\n\u001b[1;32m    219\u001b[0m         \"\"\"\n\u001b[0;32m--> 220\u001b[0;31m         \u001b[0mresponse\u001b[0m \u001b[0;34m=\u001b[0m \u001b[0mget_by_endpoint\u001b[0m\u001b[0;34m(\u001b[0m\u001b[0;34m\"samples\"\u001b[0m\u001b[0;34m,\u001b[0m \u001b[0mparams\u001b[0m\u001b[0;34m=\u001b[0m\u001b[0mkwargs\u001b[0m\u001b[0;34m)\u001b[0m\u001b[0;34m\u001b[0m\u001b[0;34m\u001b[0m\u001b[0m\n\u001b[0m\u001b[1;32m    221\u001b[0m         \u001b[0;32mreturn\u001b[0m \u001b[0mcreate_paginated_list\u001b[0m\u001b[0;34m(\u001b[0m\u001b[0mcls\u001b[0m\u001b[0;34m,\u001b[0m \u001b[0mresponse\u001b[0m\u001b[0;34m)\u001b[0m\u001b[0;34m\u001b[0m\u001b[0;34m\u001b[0m\u001b[0m\n",
      "\u001b[0;32m~/miniconda3/envs/refinebio/lib/python3.10/site-packages/pyrefinebio/api_interface.py\u001b[0m in \u001b[0;36mget_by_endpoint\u001b[0;34m(endpoint, params)\u001b[0m\n\u001b[1;32m     68\u001b[0m     \u001b[0mconfig\u001b[0m \u001b[0;34m=\u001b[0m \u001b[0mConfig\u001b[0m\u001b[0;34m(\u001b[0m\u001b[0;34m)\u001b[0m\u001b[0;34m\u001b[0m\u001b[0;34m\u001b[0m\u001b[0m\n\u001b[1;32m     69\u001b[0m     \u001b[0murl\u001b[0m \u001b[0;34m=\u001b[0m \u001b[0mconfig\u001b[0m\u001b[0;34m.\u001b[0m\u001b[0mbase_url\u001b[0m \u001b[0;34m+\u001b[0m \u001b[0mendpoint\u001b[0m \u001b[0;34m+\u001b[0m \u001b[0;34m\"/\"\u001b[0m\u001b[0;34m\u001b[0m\u001b[0;34m\u001b[0m\u001b[0m\n\u001b[0;32m---> 70\u001b[0;31m     \u001b[0;32mreturn\u001b[0m \u001b[0mget\u001b[0m\u001b[0;34m(\u001b[0m\u001b[0murl\u001b[0m\u001b[0;34m,\u001b[0m \u001b[0mparams\u001b[0m\u001b[0;34m=\u001b[0m\u001b[0mparams\u001b[0m\u001b[0;34m)\u001b[0m\u001b[0;34m\u001b[0m\u001b[0;34m\u001b[0m\u001b[0m\n\u001b[0m\u001b[1;32m     71\u001b[0m \u001b[0;34m\u001b[0m\u001b[0m\n\u001b[1;32m     72\u001b[0m \u001b[0;34m\u001b[0m\u001b[0m\n",
      "\u001b[0;32m~/miniconda3/envs/refinebio/lib/python3.10/site-packages/pyrefinebio/api_interface.py\u001b[0m in \u001b[0;36mget\u001b[0;34m(url, params)\u001b[0m\n\u001b[1;32m     54\u001b[0m \u001b[0;34m\u001b[0m\u001b[0m\n\u001b[1;32m     55\u001b[0m \u001b[0;32mdef\u001b[0m \u001b[0mget\u001b[0m\u001b[0;34m(\u001b[0m\u001b[0murl\u001b[0m\u001b[0;34m,\u001b[0m \u001b[0mparams\u001b[0m\u001b[0;34m=\u001b[0m\u001b[0;32mNone\u001b[0m\u001b[0;34m)\u001b[0m\u001b[0;34m:\u001b[0m\u001b[0;34m\u001b[0m\u001b[0;34m\u001b[0m\u001b[0m\n\u001b[0;32m---> 56\u001b[0;31m     \u001b[0;32mreturn\u001b[0m \u001b[0mrequest\u001b[0m\u001b[0;34m(\u001b[0m\u001b[0;34m\"GET\"\u001b[0m\u001b[0;34m,\u001b[0m \u001b[0murl\u001b[0m\u001b[0;34m,\u001b[0m \u001b[0mparams\u001b[0m\u001b[0;34m=\u001b[0m\u001b[0mparams\u001b[0m\u001b[0;34m)\u001b[0m\u001b[0;34m\u001b[0m\u001b[0;34m\u001b[0m\u001b[0m\n\u001b[0m\u001b[1;32m     57\u001b[0m \u001b[0;34m\u001b[0m\u001b[0m\n\u001b[1;32m     58\u001b[0m \u001b[0;34m\u001b[0m\u001b[0m\n",
      "\u001b[0;32m~/miniconda3/envs/refinebio/lib/python3.10/site-packages/pyrefinebio/api_interface.py\u001b[0m in \u001b[0;36mrequest\u001b[0;34m(method, url, params, payload)\u001b[0m\n\u001b[1;32m     38\u001b[0m         \u001b[0;32mif\u001b[0m \u001b[0mcode\u001b[0m \u001b[0;34m==\u001b[0m \u001b[0;36m400\u001b[0m\u001b[0;34m:\u001b[0m\u001b[0;34m\u001b[0m\u001b[0;34m\u001b[0m\u001b[0m\n\u001b[1;32m     39\u001b[0m             \u001b[0merror\u001b[0m \u001b[0;34m=\u001b[0m \u001b[0m_handle_error\u001b[0m\u001b[0;34m(\u001b[0m\u001b[0mresponse_body\u001b[0m\u001b[0;34m)\u001b[0m\u001b[0;34m\u001b[0m\u001b[0;34m\u001b[0m\u001b[0m\n\u001b[0;32m---> 40\u001b[0;31m             \u001b[0;32mraise\u001b[0m \u001b[0merror\u001b[0m\u001b[0;34m\u001b[0m\u001b[0;34m\u001b[0m\u001b[0m\n\u001b[0m\u001b[1;32m     41\u001b[0m \u001b[0;34m\u001b[0m\u001b[0m\n\u001b[1;32m     42\u001b[0m         \u001b[0;32melif\u001b[0m \u001b[0mcode\u001b[0m \u001b[0;34m==\u001b[0m \u001b[0;36m404\u001b[0m\u001b[0;34m:\u001b[0m\u001b[0;34m\u001b[0m\u001b[0;34m\u001b[0m\u001b[0m\n",
      "\u001b[0;31mInvalidFilterType\u001b[0m: You have provided invalid type for the filter, organism - Select a valid choice. That choice is not one of the available choices."
     ]
    }
   ],
   "source": [
    "samples = pyrb.Sample.search(organism=\"HOMO_SAPIENS\", is_processed=True)"
   ]
  },
  {
   "cell_type": "code",
   "execution_count": 22,
   "id": "e27ac07e",
   "metadata": {},
   "outputs": [],
   "source": [
    "organisms = pyrb.Organism.search(has_compendia=True)"
   ]
  },
  {
   "cell_type": "code",
   "execution_count": 25,
   "id": "ae22fab0",
   "metadata": {},
   "outputs": [
    {
     "name": "stdout",
     "output_type": "stream",
     "text": [
      "{'has_compendia': True,\n",
      " 'has_quantfile_compendia': True,\n",
      " 'name': 'HOMO_SAPIENS',\n",
      " 'taxonomy_id': 9606}\n"
     ]
    }
   ],
   "source": [
    "print(organisms[0])"
   ]
  },
  {
   "cell_type": "code",
   "execution_count": null,
   "id": "ee9195f8",
   "metadata": {},
   "outputs": [],
   "source": [
    "for sample in samples:\n",
    "    for result in sample.results:\n",
    "        if result.processor.id in processor_ids:\n",
    "            computed_files = pyrb.ComputedFile.search(result__id=result.id)\n",
    "\n",
    "            for computed_file in computed_files:\n",
    "                if computed_file.is_qc:\n",
    "                    filepath = sample.accession_code + \"-\" + computed_file.filename\n",
    "                    pyrb.http.download_file(computed_file.download_url, filepath)\n",
    "                    print(f\"Downloaded {filepath}\")"
   ]
  },
  {
   "cell_type": "code",
   "execution_count": 10,
   "id": "0f9972ea",
   "metadata": {},
   "outputs": [
    {
     "name": "stdout",
     "output_type": "stream",
     "text": [
      "Creating Dataset...\n",
      "Processing Dataset...\n",
      "Downloading Dataset...\n"
     ]
    },
    {
     "data": {
      "text/plain": [
       "<pyrefinebio.dataset.Dataset at 0x10a3041f0>"
      ]
     },
     "execution_count": 10,
     "metadata": {},
     "output_type": "execute_result"
    }
   ],
   "source": [
    "#pyrb.download_dataset(\n",
    "#    \"data/\",\n",
    "#    \"taylor.reiter@cuanschutz.edu\",\n",
    "#    experiments=[\"GSE24528\", \"GSE30631\"]\n",
    "#)"
   ]
  },
  {
   "cell_type": "code",
   "execution_count": null,
   "id": "5423ea8c",
   "metadata": {},
   "outputs": [],
   "source": []
  }
 ],
 "metadata": {
  "kernelspec": {
   "display_name": "Python 3 (ipykernel)",
   "language": "python",
   "name": "python3"
  },
  "language_info": {
   "codemirror_mode": {
    "name": "ipython",
    "version": 3
   },
   "file_extension": ".py",
   "mimetype": "text/x-python",
   "name": "python",
   "nbconvert_exporter": "python",
   "pygments_lexer": "ipython3",
   "version": "3.10.1"
  }
 },
 "nbformat": 4,
 "nbformat_minor": 5
}
